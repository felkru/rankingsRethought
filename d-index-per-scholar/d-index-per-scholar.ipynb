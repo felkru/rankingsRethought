{
 "cells": [
  {
   "metadata": {
    "ExecuteTime": {
     "end_time": "2024-08-03T16:33:49.609948Z",
     "start_time": "2024-08-03T16:33:49.606452Z"
    }
   },
   "cell_type": "code",
   "source": [
    "import requests\n",
    "from bs4 import BeautifulSoup\n",
    "import pandas as pd\n",
    "import numpy as np"
   ],
   "id": "99bd0ae886c355b",
   "outputs": [],
   "execution_count": 26
  },
  {
   "metadata": {
    "ExecuteTime": {
     "end_time": "2024-08-03T16:55:33.870922Z",
     "start_time": "2024-08-03T16:55:33.865111Z"
    }
   },
   "cell_type": "code",
   "source": [
    "# import cs100.txt as one string\n",
    "with open('cs100.txt', 'r') as file:\n",
    "    scrape = file.read()"
   ],
   "id": "1916aab49253b778",
   "outputs": [],
   "execution_count": 40
  },
  {
   "metadata": {
    "ExecuteTime": {
     "end_time": "2024-08-03T16:48:35.501307Z",
     "start_time": "2024-08-03T16:48:35.493610Z"
    }
   },
   "cell_type": "code",
   "source": [
    "with open('100.txt', 'r') as file:\n",
    "    scrape1 = file.read()\n",
    "    \n",
    "with open('100-200.txt', 'r') as file:\n",
    "    scrape2 = file.read()\n",
    "    \n",
    "scrape = scrape1 + scrape2"
   ],
   "id": "fd0bafcb21a37061",
   "outputs": [],
   "execution_count": 32
  },
  {
   "metadata": {
    "ExecuteTime": {
     "end_time": "2024-08-03T16:48:37.228669Z",
     "start_time": "2024-08-03T16:48:37.222760Z"
    }
   },
   "cell_type": "code",
   "source": "len(scrape)",
   "id": "2b0e04b390789334",
   "outputs": [
    {
     "data": {
      "text/plain": [
       "619490"
      ]
     },
     "execution_count": 33,
     "metadata": {},
     "output_type": "execute_result"
    }
   ],
   "execution_count": 33
  },
  {
   "metadata": {
    "ExecuteTime": {
     "end_time": "2024-08-03T16:55:35.612154Z",
     "start_time": "2024-08-03T16:55:35.521751Z"
    }
   },
   "cell_type": "code",
   "source": [
    "soup = BeautifulSoup(scrape, 'html.parser')\n",
    "\n",
    "# Extract the table rows\n",
    "rows = soup.select('.researcher-item')"
   ],
   "id": "4ddb8423f1c103f7",
   "outputs": [],
   "execution_count": 41
  },
  {
   "metadata": {
    "ExecuteTime": {
     "end_time": "2024-08-03T16:55:36.126189Z",
     "start_time": "2024-08-03T16:55:36.122457Z"
    }
   },
   "cell_type": "code",
   "source": "len(rows)",
   "id": "b62ea3413068fb6b",
   "outputs": [
    {
     "data": {
      "text/plain": [
       "100"
      ]
     },
     "execution_count": 42,
     "metadata": {},
     "output_type": "execute_result"
    }
   ],
   "execution_count": 42
  },
  {
   "metadata": {
    "ExecuteTime": {
     "end_time": "2024-08-03T17:04:59.870928Z",
     "start_time": "2024-08-03T17:04:59.801762Z"
    }
   },
   "cell_type": "code",
   "source": [
    "# Initialize lists to store html\n",
    "universities = []\n",
    "countries = []\n",
    "scholars = []\n",
    "publications = []\n",
    "d_indexes = []\n",
    "\n",
    "# Loop through each row and extract the required html\n",
    "for i, row in enumerate(rows):\n",
    "    university = row.select_one('h4').text.strip()\n",
    "    country = row.select_one('span.sh').text.strip()\n",
    "    scholar = row.select('span.rankings-info > span > span')[1].text.strip()\n",
    "    publication = row.select('span.rankings-info > span > span')[2].text.strip()\n",
    "    d_index = row.select('span.rankings-info > span > span')[4].text.strip()\n",
    "    \n",
    "    universities.append(university)\n",
    "    countries.append(country)\n",
    "    scholars.append(scholar)\n",
    "    publications.append(publication)\n",
    "    d_indexes.append(d_index)\n",
    "\n",
    "# Create a DataFrame\n",
    "data = {\n",
    "    'University Name': universities,\n",
    "    'Country': countries,\n",
    "    'Scholars': scholars,\n",
    "    'Publications': publications,\n",
    "    'D-Index': d_indexes\n",
    "}\n",
    "\n",
    "df = pd.DataFrame(data)\n",
    "df['Scholars'] = df['Scholars'].str.replace('Scholars', '').astype(int)\n",
    "df['Publications'] = df['Publications'].str.replace(',', '').astype(int)\n",
    "df['D-Index'] = df['D-Index'].str.replace(',', '').astype(int)\n",
    "\n",
    "df['D-Index per Scholar'] = df['D-Index'] / df['Scholars']\n",
    "\n",
    "df_sorted = df.sort_values(by='D-Index per Scholar', ascending=False)\n",
    "\n",
    "df_sorted['Rank'] = df_sorted['D-Index per Scholar'].rank(ascending=False, method='dense').astype(int)\n",
    "\n",
    "# Display the DataFrame\n",
    "df"
   ],
   "id": "364888e035a311f7",
   "outputs": [
    {
     "data": {
      "text/plain": [
       "                               University Name        Country  Scholars  \\\n",
       "0                   Carnegie Mellon University  United States       169   \n",
       "1                                          MIT  United States       139   \n",
       "2                          Stanford University  United States       104   \n",
       "3           University of California, Berkeley  United States        81   \n",
       "4   University of Illinois at Urbana-Champaign  United States        95   \n",
       "..                                         ...            ...       ...   \n",
       "95                           McGill University         Canada        25   \n",
       "96         University of California, Riverside  United States        22   \n",
       "97                             Rice University  United States        22   \n",
       "98                            Aalto University        Finland        26   \n",
       "99              University of Colorado Boulder  United States        24   \n",
       "\n",
       "    Publications  D-Index  D-Index per Scholar  \n",
       "0          43400    10169            60.171598  \n",
       "1          34406     8840            63.597122  \n",
       "2          26086     7360            70.769231  \n",
       "3          23095     6108            75.407407  \n",
       "4          27389     5439            57.252632  \n",
       "..           ...      ...                  ...  \n",
       "95          5859     1213            48.520000  \n",
       "96          5829     1204            54.727273  \n",
       "97          5298     1192            54.181818  \n",
       "98          6709     1174            45.153846  \n",
       "99          4714     1169            48.708333  \n",
       "\n",
       "[100 rows x 6 columns]"
      ],
      "text/html": [
       "<div>\n",
       "<style scoped>\n",
       "    .dataframe tbody tr th:only-of-type {\n",
       "        vertical-align: middle;\n",
       "    }\n",
       "\n",
       "    .dataframe tbody tr th {\n",
       "        vertical-align: top;\n",
       "    }\n",
       "\n",
       "    .dataframe thead th {\n",
       "        text-align: right;\n",
       "    }\n",
       "</style>\n",
       "<table border=\"1\" class=\"dataframe\">\n",
       "  <thead>\n",
       "    <tr style=\"text-align: right;\">\n",
       "      <th></th>\n",
       "      <th>University Name</th>\n",
       "      <th>Country</th>\n",
       "      <th>Scholars</th>\n",
       "      <th>Publications</th>\n",
       "      <th>D-Index</th>\n",
       "      <th>D-Index per Scholar</th>\n",
       "    </tr>\n",
       "  </thead>\n",
       "  <tbody>\n",
       "    <tr>\n",
       "      <th>0</th>\n",
       "      <td>Carnegie Mellon University</td>\n",
       "      <td>United States</td>\n",
       "      <td>169</td>\n",
       "      <td>43400</td>\n",
       "      <td>10169</td>\n",
       "      <td>60.171598</td>\n",
       "    </tr>\n",
       "    <tr>\n",
       "      <th>1</th>\n",
       "      <td>MIT</td>\n",
       "      <td>United States</td>\n",
       "      <td>139</td>\n",
       "      <td>34406</td>\n",
       "      <td>8840</td>\n",
       "      <td>63.597122</td>\n",
       "    </tr>\n",
       "    <tr>\n",
       "      <th>2</th>\n",
       "      <td>Stanford University</td>\n",
       "      <td>United States</td>\n",
       "      <td>104</td>\n",
       "      <td>26086</td>\n",
       "      <td>7360</td>\n",
       "      <td>70.769231</td>\n",
       "    </tr>\n",
       "    <tr>\n",
       "      <th>3</th>\n",
       "      <td>University of California, Berkeley</td>\n",
       "      <td>United States</td>\n",
       "      <td>81</td>\n",
       "      <td>23095</td>\n",
       "      <td>6108</td>\n",
       "      <td>75.407407</td>\n",
       "    </tr>\n",
       "    <tr>\n",
       "      <th>4</th>\n",
       "      <td>University of Illinois at Urbana-Champaign</td>\n",
       "      <td>United States</td>\n",
       "      <td>95</td>\n",
       "      <td>27389</td>\n",
       "      <td>5439</td>\n",
       "      <td>57.252632</td>\n",
       "    </tr>\n",
       "    <tr>\n",
       "      <th>...</th>\n",
       "      <td>...</td>\n",
       "      <td>...</td>\n",
       "      <td>...</td>\n",
       "      <td>...</td>\n",
       "      <td>...</td>\n",
       "      <td>...</td>\n",
       "    </tr>\n",
       "    <tr>\n",
       "      <th>95</th>\n",
       "      <td>McGill University</td>\n",
       "      <td>Canada</td>\n",
       "      <td>25</td>\n",
       "      <td>5859</td>\n",
       "      <td>1213</td>\n",
       "      <td>48.520000</td>\n",
       "    </tr>\n",
       "    <tr>\n",
       "      <th>96</th>\n",
       "      <td>University of California, Riverside</td>\n",
       "      <td>United States</td>\n",
       "      <td>22</td>\n",
       "      <td>5829</td>\n",
       "      <td>1204</td>\n",
       "      <td>54.727273</td>\n",
       "    </tr>\n",
       "    <tr>\n",
       "      <th>97</th>\n",
       "      <td>Rice University</td>\n",
       "      <td>United States</td>\n",
       "      <td>22</td>\n",
       "      <td>5298</td>\n",
       "      <td>1192</td>\n",
       "      <td>54.181818</td>\n",
       "    </tr>\n",
       "    <tr>\n",
       "      <th>98</th>\n",
       "      <td>Aalto University</td>\n",
       "      <td>Finland</td>\n",
       "      <td>26</td>\n",
       "      <td>6709</td>\n",
       "      <td>1174</td>\n",
       "      <td>45.153846</td>\n",
       "    </tr>\n",
       "    <tr>\n",
       "      <th>99</th>\n",
       "      <td>University of Colorado Boulder</td>\n",
       "      <td>United States</td>\n",
       "      <td>24</td>\n",
       "      <td>4714</td>\n",
       "      <td>1169</td>\n",
       "      <td>48.708333</td>\n",
       "    </tr>\n",
       "  </tbody>\n",
       "</table>\n",
       "<p>100 rows × 6 columns</p>\n",
       "</div>"
      ]
     },
     "execution_count": 44,
     "metadata": {},
     "output_type": "execute_result"
    }
   ],
   "execution_count": 44
  }
 ],
 "metadata": {
  "kernelspec": {
   "display_name": "Python 3",
   "language": "python",
   "name": "python3"
  },
  "language_info": {
   "codemirror_mode": {
    "name": "ipython",
    "version": 2
   },
   "file_extension": ".py",
   "mimetype": "text/x-python",
   "name": "python",
   "nbconvert_exporter": "python",
   "pygments_lexer": "ipython2",
   "version": "2.7.6"
  }
 },
 "nbformat": 4,
 "nbformat_minor": 5
}
